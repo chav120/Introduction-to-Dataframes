{
  "nbformat": 4,
  "nbformat_minor": 0,
  "metadata": {
    "colab": {
      "name": "HW2_Chavez_Joseph",
      "provenance": [],
      "collapsed_sections": [],
      "include_colab_link": true
    },
    "kernelspec": {
      "name": "python3",
      "display_name": "Python 3"
    }
  },
  "cells": [
    {
      "cell_type": "markdown",
      "metadata": {
        "id": "view-in-github",
        "colab_type": "text"
      },
      "source": [
        "<a href=\"https://colab.research.google.com/github/chav120/Introduction-to-Dataframes/blob/main/HW2_Chavez_Joseph.ipynb\" target=\"_parent\"><img src=\"https://colab.research.google.com/assets/colab-badge.svg\" alt=\"Open In Colab\"/></a>"
      ]
    },
    {
      "cell_type": "markdown",
      "metadata": {
        "id": "bNsIruOzI4iF"
      },
      "source": [
        "## **Homework 2**\n",
        "\n",
        "### Create a copy of the notebook to start answering the questions. Name your notebook in the format HW2_lastname_firstname.ipynb to facilitate the grading process. \n",
        "\n",
        "### Answer all the questions, test your code to ensure there are no errors and the results are as expected. Once you have answered all the questions, save the final copy, then go to File-> click on Download.ipynb. Once the local copy has been downloaded, submit your file on Blackboard under the corresponding assignment section. Also provide us a link to your notebook during submission. \n",
        "\n",
        "### **The due date of this homework is 02/12/2021 (Friday).**\n",
        "\n",
        "### Please ensure you follow all the steps mentioned in the homework.\n",
        "\n",
        "### All the questions have a sample input and output to help you understand the question.\n",
        "\n",
        "### You can submit your solutions any number of times until the deadline.\n"
      ]
    },
    {
      "cell_type": "markdown",
      "metadata": {
        "id": "U3Yz3s2uio1F"
      },
      "source": [
        "**Q1. Lets consider your data is like the below cell:**\n",
        "\n",
        "**Q1-1**: Write a program that create a dataframe from the data.\n",
        "\n",
        "**Q1-2:** Select people that are psychologist or teacher and their number of cars is greater than their family size.\n",
        "\n",
        "**Q1-3:** Select people who have at most 2 family members and at least 1 car.\n",
        "\n",
        "**Q1-4:** Write a code that get number of unique jobs in this dataset.\n",
        "\n",
        "\n",
        "\n"
      ]
    },
    {
      "cell_type": "code",
      "metadata": {
        "id": "yR8lcOtcjxXD"
      },
      "source": [
        "data = {\"name\": [\"Joseph\", \"Jacob\", \"Sam\", \"Jesee\", \"Ryan\", \"Lisa\", \"Lee\"],\n",
        "        \"job\": [\"teacher\", \"psychologist\", \"data scientist\", \"software developer\", \"psychologist\", \"psychologist\", \"teacher\"],\n",
        "        \"family_size\": [3, 2, 1, 4, 2, 3, 2],\n",
        "        \"num_cars\": [3, 1, 1, 2, 2, 4, 1]}"
      ],
      "execution_count": null,
      "outputs": []
    },
    {
      "cell_type": "code",
      "metadata": {
        "id": "Youi5qMaP34p",
        "colab": {
          "base_uri": "https://localhost:8080/"
        },
        "outputId": "3468a5a4-9e28-4bca-b2c1-88a94fde1e6d"
      },
      "source": [
        "import pandas as pd\n",
        "\n",
        "print(\"1-1\")\n",
        "frame = pd.DataFrame(data)\n",
        "print(frame)\n",
        "\n",
        "print(\"\\n\")\n",
        "print(\"1-2\")\n",
        "jobFinder = frame[(frame[\"job\"] == \"psychologist\") & (frame[\"num_cars\"] > frame[\"family_size\"])]\n",
        "jobFinder2 = frame[(frame[\"job\"] == \"teacher\") & (frame[\"num_cars\"] > frame[\"family_size\"])]\n",
        "print(\"Psychologists:\")\n",
        "print(jobFinder, \"\\n\")\n",
        "print(\"Teachers:\")\n",
        "print(jobFinder2)\n",
        "\n",
        "print(\"\\n\")\n",
        "print(\"1-3\")\n",
        "print(frame[(frame[\"family_size\"] <= 2) & (frame[\"num_cars\"] >= 1)])\n",
        "\n",
        "print(\"\\n\")\n",
        "print(\"1-4\")\n",
        "uniqueJobs = []\n",
        "for i in frame[\"job\"]:\n",
        "  if i not in uniqueJobs:\n",
        "    uniqueJobs.append(i)\n",
        "print(\"The number of unique jobs is\", len(uniqueJobs))\n"
      ],
      "execution_count": null,
      "outputs": [
        {
          "output_type": "stream",
          "text": [
            "1-1\n",
            "     name                 job  family_size  num_cars\n",
            "0  Joseph             teacher            3         3\n",
            "1   Jacob        psychologist            2         1\n",
            "2     Sam      data scientist            1         1\n",
            "3   Jesee  software developer            4         2\n",
            "4    Ryan        psychologist            2         2\n",
            "5    Lisa        psychologist            3         4\n",
            "6     Lee             teacher            2         1\n",
            "\n",
            "\n",
            "1-2\n",
            "Psychologists:\n",
            "   name           job  family_size  num_cars\n",
            "5  Lisa  psychologist            3         4 \n",
            "\n",
            "Teachers:\n",
            "Empty DataFrame\n",
            "Columns: [name, job, family_size, num_cars]\n",
            "Index: []\n",
            "\n",
            "\n",
            "1-3\n",
            "    name             job  family_size  num_cars\n",
            "1  Jacob    psychologist            2         1\n",
            "2    Sam  data scientist            1         1\n",
            "4   Ryan    psychologist            2         2\n",
            "6    Lee         teacher            2         1\n",
            "\n",
            "\n",
            "1-4\n",
            "The number of unique jobs is 4\n"
          ],
          "name": "stdout"
        }
      ]
    },
    {
      "cell_type": "markdown",
      "metadata": {
        "id": "Ow6nG8k4l91X"
      },
      "source": [
        "**Q2. Lets consider you have two series like the below cell. Compute the mean of weights of each fruit.**"
      ]
    },
    {
      "cell_type": "code",
      "metadata": {
        "id": "u-X_DoOzVLLB"
      },
      "source": [
        "import numpy as np\n",
        "fruit = pd.Series(np.random.choice(['apple', 'banana', 'carrot'], 10))\n",
        "weights = pd.Series(np.linspace(1, 10, 10))"
      ],
      "execution_count": null,
      "outputs": []
    },
    {
      "cell_type": "code",
      "metadata": {
        "id": "S419nzYnpU__",
        "colab": {
          "base_uri": "https://localhost:8080/"
        },
        "outputId": "e7cc5e4e-d589-4985-e0dc-b04cdc91c9d7"
      },
      "source": [
        "import numpy as np\n",
        "import pandas as pd\n",
        "fruit = pd.Series(np.random.choice(['apple', 'banana', 'carrot'], 10))\n",
        "weights = pd.Series(np.linspace(1, 10, 10))\n",
        "\n",
        "fruitList = np.array(fruit)\n",
        "weightList = np.array(weights)\n",
        "\n",
        "fruits = {\"fruits\": fruitList,\n",
        "          \"weights\": weightList}\n",
        "\n",
        "fruitsFrame = pd.DataFrame(fruits)\n",
        "\n",
        "print(fruitsFrame)\n",
        "\n",
        "appleWeight = fruitsFrame[fruitsFrame[\"fruits\"] == \"apple\"]\n",
        "print(\"Apples\", str(np.mean(appleWeight)))\n",
        "\n",
        "bananaWeight = fruitsFrame[fruitsFrame[\"fruits\"] == \"banana\"]\n",
        "print(\"Bananas\", str(np.mean(bananaWeight)))\n",
        "\n",
        "carrotWeight = fruitsFrame[fruitsFrame[\"fruits\"] == \"carrot\"]\n",
        "print(\"Carrots\", str(np.mean(carrotWeight)))\n",
        "\n",
        "print(\"Total mean is\", str(np.mean(weights)))\n",
        "\n",
        "\n",
        "\n",
        "\n",
        "\n",
        "\n",
        "\n",
        "\n",
        "\n",
        "\n"
      ],
      "execution_count": null,
      "outputs": [
        {
          "output_type": "stream",
          "text": [
            "   fruits  weights\n",
            "0  carrot      1.0\n",
            "1   apple      2.0\n",
            "2  banana      3.0\n",
            "3  banana      4.0\n",
            "4  banana      5.0\n",
            "5  banana      6.0\n",
            "6   apple      7.0\n",
            "7   apple      8.0\n",
            "8   apple      9.0\n",
            "9   apple     10.0\n",
            "Apples weights    7.2\n",
            "dtype: float64\n",
            "Bananas weights    4.5\n",
            "dtype: float64\n",
            "Carrots weights    1.0\n",
            "dtype: float64\n",
            "Total mean is 5.5\n"
          ],
          "name": "stdout"
        }
      ]
    },
    {
      "cell_type": "markdown",
      "metadata": {
        "id": "g4lKaPIhtVrt"
      },
      "source": [
        "**Q3. Consider the below course_name array:**\n",
        "\n",
        "**Q3-1**: Write a NumPy program to get the indices of the sorted elements of **course_name** array.\n",
        "\n",
        "**Q3-2:** Write numpy code to check whether each element of **course_name** array starts with \"P\".\n"
      ]
    },
    {
      "cell_type": "code",
      "metadata": {
        "id": "RUP_jp2KtVrx"
      },
      "source": [
        "import numpy as np\n",
        "course_name = np.array(['Python', 'JS', 'examples', 'PHP', 'html'])"
      ],
      "execution_count": null,
      "outputs": []
    },
    {
      "cell_type": "code",
      "metadata": {
        "id": "U1i27POxv-o_",
        "colab": {
          "base_uri": "https://localhost:8080/"
        },
        "outputId": "237d3343-8d74-42c7-e4b8-747f88d6bbe9"
      },
      "source": [
        "import numpy as np\n",
        "course_name = np.array(['Python', 'JS', 'examples', 'PHP', 'html'])\n",
        "\n",
        "print(\"3-1\")\n",
        "sortedList = np.sort(course_name)\n",
        "print(\"Sorted List:\", sortedList)\n",
        "\n",
        "for i in course_name:\n",
        "  index = np.where(sortedList == i)\n",
        "  print(i, \"Sorted Index:\", index[0])\n",
        "\n",
        "print(\"\\n\")\n",
        "print(\"3-2\")\n",
        "for i in course_name:\n",
        "  newList = list(i.lower())\n",
        "  newArr = np.array(newList)\n",
        "  if newArr[0] == \"p\":\n",
        "    print(i + \":\", True)\n",
        "  else:\n",
        "    print(i + \":\", False)\n",
        "\n",
        "\n"
      ],
      "execution_count": null,
      "outputs": [
        {
          "output_type": "stream",
          "text": [
            "3-1\n",
            "Sorted List: ['JS' 'PHP' 'Python' 'examples' 'html']\n",
            "Python Sorted Index: [2]\n",
            "JS Sorted Index: [0]\n",
            "examples Sorted Index: [3]\n",
            "PHP Sorted Index: [1]\n",
            "html Sorted Index: [4]\n",
            "\n",
            "\n",
            "3-2\n",
            "Python: True\n",
            "JS: False\n",
            "examples: False\n",
            "PHP: True\n",
            "html: False\n"
          ],
          "name": "stdout"
        }
      ]
    },
    {
      "cell_type": "markdown",
      "metadata": {
        "id": "sUFItNFOxwkz"
      },
      "source": [
        "**Q4. Consider the below student_id array:**\n",
        "\n",
        "**Q4-1:** Reverse the **student_id** array. Print both original and reversed array.\n",
        "\n",
        "**Q4-2:** Get the 3-largest values of **student_id** array."
      ]
    },
    {
      "cell_type": "code",
      "metadata": {
        "id": "Rl5qzEjFv0nw"
      },
      "source": [
        "import numpy as np\n",
        "student_id = np.array([1023, 5202, 6230, 1671, 1682, 5241, 4532])"
      ],
      "execution_count": null,
      "outputs": []
    },
    {
      "cell_type": "code",
      "metadata": {
        "id": "EetvHGrUxMCC",
        "colab": {
          "base_uri": "https://localhost:8080/"
        },
        "outputId": "9c40d4de-f234-4a07-e0b4-6b3747145167"
      },
      "source": [
        "import numpy as np\n",
        "student_id = np.array([1023, 5202, 6230, 1671, 1682, 5241, 4532])\n",
        "\n",
        "print(\"4-1\")\n",
        "print(student_id)\n",
        "print(np.flip(student_id))\n",
        "\n",
        "print(\"\\n\")\n",
        "print(\"4-2\")\n",
        "sortedNum = np.sort(student_id)\n",
        "finalSort = np.flip(sortedNum)\n",
        "print(\"The 3 largest values are:\", finalSort[0:3])\n"
      ],
      "execution_count": null,
      "outputs": [
        {
          "output_type": "stream",
          "text": [
            "4-1\n",
            "[1023 5202 6230 1671 1682 5241 4532]\n",
            "[4532 5241 1682 1671 6230 5202 1023]\n",
            "\n",
            "\n",
            "4-2\n",
            "The 3 largest values are: [6230 5241 5202]\n"
          ],
          "name": "stdout"
        }
      ]
    },
    {
      "cell_type": "markdown",
      "metadata": {
        "id": "uKRyDVuW6B19"
      },
      "source": [
        "# **Q5: Write a numpy program to print sum of all the multiples of 3 or 5 below 100**"
      ]
    },
    {
      "cell_type": "code",
      "metadata": {
        "id": "ZIixq1gz6OK3",
        "colab": {
          "base_uri": "https://localhost:8080/"
        },
        "outputId": "ee4c82a1-2fa0-47c0-f98f-3bdcebefc05b"
      },
      "source": [
        "multiples3 = np.arange(0,100,3)\n",
        "multiples5 = np.arange(0,100,5)\n",
        "sum3 = np.sum(multiples3)\n",
        "sum5 = np.sum(multiples5)\n",
        "\n",
        "print(\"The sum is\", sum3 + sum5)\n"
      ],
      "execution_count": null,
      "outputs": [
        {
          "output_type": "stream",
          "text": [
            "The sum is 2633\n"
          ],
          "name": "stdout"
        }
      ]
    },
    {
      "cell_type": "markdown",
      "metadata": {
        "id": "2CWJOsP24c34"
      },
      "source": [
        "**Q6. Consider the below array.**\n",
        "\n",
        "Q6.1. Write a code to swap column 1 with column 2.\n",
        "\n",
        "Q6.2. Write a code to swap row 0 with row 1."
      ]
    },
    {
      "cell_type": "code",
      "metadata": {
        "id": "3OG6X5Eg5KSM"
      },
      "source": [
        "import numpy as np\n",
        "\n",
        "arr = np.arange(12).reshape(3,4)\n",
        "print(arr)"
      ],
      "execution_count": null,
      "outputs": []
    },
    {
      "cell_type": "code",
      "metadata": {
        "id": "Q-Q91DpO5YYW",
        "colab": {
          "base_uri": "https://localhost:8080/"
        },
        "outputId": "5cf10c3d-9f22-45f8-fb47-e5b6d33e1285"
      },
      "source": [
        "import numpy as np\n",
        "\n",
        "arr = np.arange(12).reshape(3,4)\n",
        "print(\"Original array:\")\n",
        "print(arr)\n",
        "\n",
        "print(\"\\n\")\n",
        "print(\"6-1\")\n",
        "arr[:, [1,2]] = arr[:, [2,1]]\n",
        "print(\"New array:\")\n",
        "print(arr)\n",
        "\n",
        "print(\"\\n\")\n",
        "print(\"6-2\")\n",
        "arr = np.arange(12).reshape(3,4)\n",
        "arr[[0,1], :] = arr[[1,0],:]\n",
        "print(\"New array:\")\n",
        "print(arr)\n",
        "\n",
        "\n"
      ],
      "execution_count": null,
      "outputs": [
        {
          "output_type": "stream",
          "text": [
            "Original array:\n",
            "[[ 0  1  2  3]\n",
            " [ 4  5  6  7]\n",
            " [ 8  9 10 11]]\n",
            "\n",
            "\n",
            "6-1\n",
            "New array:\n",
            "[[ 0  2  1  3]\n",
            " [ 4  6  5  7]\n",
            " [ 8 10  9 11]]\n",
            "\n",
            "\n",
            "6-2\n",
            "New array:\n",
            "[[ 4  5  6  7]\n",
            " [ 0  1  2  3]\n",
            " [ 8  9 10 11]]\n"
          ],
          "name": "stdout"
        }
      ]
    }
  ]
}